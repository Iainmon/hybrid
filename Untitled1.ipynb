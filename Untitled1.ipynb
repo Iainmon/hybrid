{
 "cells": [
  {
   "cell_type": "code",
   "execution_count": null,
   "id": "818a4cf7",
   "metadata": {},
   "outputs": [],
   "source": [
    "y=atan(sin(3*cos(x * 3)*x))"
   ]
  },
  {
   "cell_type": "code",
   "execution_count": null,
   "id": "67f54475",
   "metadata": {},
   "outputs": [],
   "source": []
  },
  {
   "cell_type": "code",
   "execution_count": null,
   "id": "2355257d",
   "metadata": {},
   "outputs": [],
   "source": []
  }
 ],
 "metadata": {
  "kernelspec": {
   "display_name": "Plotter",
   "language": "python",
   "name": "plotter"
  },
  "language_info": {
   "extension": ".py",
   "mimetype": "text/plain",
   "name": "plotter"
  }
 },
 "nbformat": 4,
 "nbformat_minor": 5
}
