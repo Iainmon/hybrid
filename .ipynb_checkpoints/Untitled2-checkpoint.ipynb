{
 "cells": [
  {
   "cell_type": "code",
   "execution_count": null,
   "id": "decb4a94",
   "metadata": {},
   "outputs": [],
   "source": [
    "pro [A] : {\n",
    "    rout NearestNeighbor(G,S,c) : {\n",
    "        return 1;\n",
    "    }\n",
    "}\n",
    "\n",
    "lib [OTPReal] : {\n",
    "    rout eavesdrop(m : {0,1}) : {\n",
    "        k <- {0,1};\n",
    "        c := k xor m;\n",
    "        return c;\n",
    "    }\n",
    "}\n",
    "lib [OTPRand] : {\n",
    "    rout eavesdrop(m : {0,1}) : {\n",
    "        c <- {0,1};\n",
    "        return c;\n",
    "    }\n",
    "}\n",
    "\n",
    "\n",
    "show pro[A].\n",
    "show \"\"."
   ]
  },
  {
   "cell_type": "code",
   "execution_count": null,
   "id": "63baacbd",
   "metadata": {},
   "outputs": [],
   "source": []
  }
 ],
 "metadata": {
  "kernelspec": {
   "display_name": "Hybrid",
   "language": "python",
   "name": "ihybrid"
  },
  "language_info": {
   "extension": ".py",
   "mimetype": "text/plain",
   "name": "c"
  }
 },
 "nbformat": 4,
 "nbformat_minor": 5
}
