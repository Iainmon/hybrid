{
 "cells": [
  {
   "cell_type": "code",
   "execution_count": null,
   "id": "0c844073",
   "metadata": {},
   "outputs": [],
   "source": [
    "1"
   ]
  },
  {
   "cell_type": "code",
   "execution_count": null,
   "id": "5774339d",
   "metadata": {},
   "outputs": [],
   "source": []
  }
 ],
 "metadata": {
  "kernelspec": {
   "display_name": "Hybrid",
   "language": "python",
   "name": "ihybrid"
  }
 },
 "nbformat": 4,
 "nbformat_minor": 5
}
