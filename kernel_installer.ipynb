{
 "cells": [
  {
   "cell_type": "code",
   "execution_count": 9,
   "id": "ba535949",
   "metadata": {},
   "outputs": [
    {
     "name": "stdout",
     "output_type": "stream",
     "text": [
      "[InstallKernelSpec] Removing existing kernelspec in /Users/iainmoncrief/Library/Jupyter/kernels/ihybrid\r\n",
      "[InstallKernelSpec] Installed kernelspec ihybrid in /Users/iainmoncrief/Library/Jupyter/kernels/ihybrid\r\n"
     ]
    }
   ],
   "source": [
    "!jupyter kernelspec install --user ihybrid\n"
   ]
  },
  {
   "cell_type": "code",
   "execution_count": 8,
   "id": "2cacdbec",
   "metadata": {},
   "outputs": [
    {
     "name": "stdout",
     "output_type": "stream",
     "text": [
      "Available kernels:\r\n",
      "  ihybrid         /Users/iainmoncrief/Library/Jupyter/kernels/ihybrid\r\n",
      "  plotter         /Users/iainmoncrief/Library/Jupyter/kernels/plotter\r\n",
      "  python3         /usr/local/opt/python@3.10/Frameworks/Python.framework/Versions/3.10/share/jupyter/kernels/python3\r\n",
      "  sagemath-9.4    /usr/local/share/jupyter/kernels/SageMath-9.4\r\n"
     ]
    }
   ],
   "source": [
    "!jupyter kernelspec list\n"
   ]
  },
  {
   "cell_type": "code",
   "execution_count": null,
   "id": "70226cb3",
   "metadata": {},
   "outputs": [],
   "source": []
  }
 ],
 "metadata": {
  "kernelspec": {
   "display_name": "Python 3 (ipykernel)",
   "language": "python",
   "name": "python3"
  },
  "language_info": {
   "codemirror_mode": {
    "name": "ipython",
    "version": 3
   },
   "file_extension": ".py",
   "mimetype": "text/x-python",
   "name": "python",
   "nbconvert_exporter": "python",
   "pygments_lexer": "ipython3",
   "version": "3.10.1"
  }
 },
 "nbformat": 4,
 "nbformat_minor": 5
}
